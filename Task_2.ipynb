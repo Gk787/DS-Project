{
  "nbformat": 4,
  "nbformat_minor": 0,
  "metadata": {
    "colab": {
      "provenance": [],
      "authorship_tag": "ABX9TyPr1qYq1m4snMCE68vPuDbb",
      "include_colab_link": true
    },
    "kernelspec": {
      "name": "python3",
      "display_name": "Python 3"
    },
    "language_info": {
      "name": "python"
    }
  },
  "cells": [
    {
      "cell_type": "markdown",
      "metadata": {
        "id": "view-in-github",
        "colab_type": "text"
      },
      "source": [
        "<a href=\"https://colab.research.google.com/github/Gk787/DS-Project/blob/main/Task_2.ipynb\" target=\"_parent\"><img src=\"https://colab.research.google.com/assets/colab-badge.svg\" alt=\"Open In Colab\"/></a>"
      ]
    },
    {
      "cell_type": "code",
      "execution_count": null,
      "metadata": {
        "id": "3sEJIB3yQy-l"
      },
      "outputs": [],
      "source": [
        "import pandas as pd\n",
        "from sklearn.feature_extraction.text import TfidfVectorizer\n",
        "from sklearn.metrics.pairwise import cosine_similarity\n",
        "from sklearn.preprocessing import MinMaxScaler"
      ]
    },
    {
      "cell_type": "code",
      "source": [
        "customers = pd.read_csv('/content/Customers.csv')\n",
        "products = pd.read_csv('/content/Products.csv')\n",
        "transactions = pd.read_csv('/content/Transactions.csv')"
      ],
      "metadata": {
        "id": "hsvKMEH4RDaW"
      },
      "execution_count": null,
      "outputs": []
    },
    {
      "cell_type": "code",
      "source": [
        "data = transactions.merge(customers, on='CustomerID', how='left')\n",
        "data = data.merge(products, on='ProductID', how='left')"
      ],
      "metadata": {
        "id": "fSicyJCJRZ-Y"
      },
      "execution_count": null,
      "outputs": []
    },
    {
      "cell_type": "code",
      "source": [
        "customer_profiles = data.groupby('CustomerID').agg({\n",
        "    'Region': 'first',\n",
        "    'Category': lambda x: ' '.join(x),\n",
        "    'TotalValue': 'sum',\n",
        "    'Quantity': 'sum'\n",
        "}).reset_index()"
      ],
      "metadata": {
        "id": "Vg5EOqh6Re6B"
      },
      "execution_count": null,
      "outputs": []
    },
    {
      "cell_type": "code",
      "source": [
        "scaler = MinMaxScaler()\n",
        "customer_profiles[['TotalValue', 'Quantity']] = scaler.fit_transform(\n",
        "    customer_profiles[['TotalValue', 'Quantity']]\n",
        ")"
      ],
      "metadata": {
        "id": "NYsouQSfRmn3"
      },
      "execution_count": null,
      "outputs": []
    },
    {
      "cell_type": "code",
      "source": [
        "customer_profiles['Features'] = (\n",
        "    customer_profiles['Region'] + ' ' + customer_profiles['Category']\n",
        ")"
      ],
      "metadata": {
        "id": "Dhw07WERRpKA"
      },
      "execution_count": null,
      "outputs": []
    },
    {
      "cell_type": "code",
      "source": [
        "tfidf = TfidfVectorizer(stop_words='english')\n",
        "tfidf_matrix = tfidf.fit_transform(customer_profiles['Features'])"
      ],
      "metadata": {
        "id": "Na1vs9QfRrJx"
      },
      "execution_count": null,
      "outputs": []
    },
    {
      "cell_type": "code",
      "source": [
        "numerical_features = customer_profiles[['TotalValue', 'Quantity']].values\n",
        "combined_features = pd.concat(\n",
        "    [\n",
        "        pd.DataFrame(tfidf_matrix.toarray(), index=customer_profiles['CustomerID']),\n",
        "        pd.DataFrame(numerical_features, index=customer_profiles['CustomerID']),\n",
        "    ],\n",
        "    axis=1,\n",
        ")"
      ],
      "metadata": {
        "id": "4ltgzJf4Rtc4"
      },
      "execution_count": null,
      "outputs": []
    },
    {
      "cell_type": "code",
      "source": [
        "similarity_matrix = cosine_similarity(combined_features)"
      ],
      "metadata": {
        "id": "1XDIpE24Rvx_"
      },
      "execution_count": null,
      "outputs": []
    },
    {
      "cell_type": "code",
      "source": [
        "lookalike_map = {}\n",
        "\n",
        "for idx, customer_id in enumerate(customer_profiles['CustomerID']):\n",
        "    similarity_scores = list(enumerate(similarity_matrix[idx]))\n",
        "\n",
        "    similar_customers = sorted(similarity_scores, key=lambda x: x[1], reverse=True)\n",
        "\n",
        "    top_3 = [\n",
        "        (customer_profiles['CustomerID'].iloc[i[0]], round(i[1], 4))\n",
        "        for i in similar_customers\n",
        "        if customer_profiles['CustomerID'].iloc[i[0]] != customer_id\n",
        "    ][:3]\n",
        "    lookalike_map[customer_id] = top_3"
      ],
      "metadata": {
        "id": "ddSYCr8QR0U6"
      },
      "execution_count": null,
      "outputs": []
    },
    {
      "cell_type": "code",
      "source": [
        "lookalike_results = []\n",
        "\n",
        "for customer_id in customer_profiles['CustomerID']:\n",
        "    if customer_id in ['C000' + str(i).zfill(1) for i in range(1, 21)]:\n",
        "        lookalike_results.append({\n",
        "            'CustomerID': customer_id,\n",
        "            'Lookalikes': str(lookalike_map[customer_id])\n",
        "        })"
      ],
      "metadata": {
        "id": "rCql_wTyR5CZ"
      },
      "execution_count": null,
      "outputs": []
    },
    {
      "source": [
        "import os\n",
        "\n",
        "os.makedirs('/mnt/data', exist_ok=True)\n",
        "\n",
        "lookalike_df = pd.DataFrame(lookalike_results)\n",
        "lookalike_df.to_csv('/mnt/data/Lookalike.csv', index=False)\n",
        "\n",
        "print(\"Lookalike.csv has been created successfully!\")"
      ],
      "cell_type": "code",
      "metadata": {
        "colab": {
          "base_uri": "https://localhost:8080/"
        },
        "id": "CJZSyn0hSJF_",
        "outputId": "5edd04b7-f756-483e-f7d6-37131094924a"
      },
      "execution_count": null,
      "outputs": [
        {
          "output_type": "stream",
          "name": "stdout",
          "text": [
            "Lookalike.csv has been created successfully!\n"
          ]
        }
      ]
    }
  ]
}